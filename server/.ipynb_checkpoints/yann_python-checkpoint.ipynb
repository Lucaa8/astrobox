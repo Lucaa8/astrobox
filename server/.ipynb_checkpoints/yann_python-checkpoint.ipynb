{
 "cells": [
  {
   "cell_type": "code",
   "execution_count": 32,
   "id": "e18f606e",
   "metadata": {},
   "outputs": [],
   "source": [
    "import json\n",
    "import pandas as pd\n",
    "import matplotlib.pyplot as plt\n",
    "import seaborn as sns\n",
    "import numpy as np\n",
    "import matplotlib.pyplot as plt\n",
    "import pandas as pd\n",
    "import matplotlib.colors as mcolors\n",
    "import matplotlib.cm as cm\n",
    "\n",
    "# lire le fichier JSON\n",
    "with open('data.json', 'r') as f:\n",
    "    data_dict = json.loads(f.read())\n",
    "\n",
    "# convertir le dictionnaire Python en dataframe\n",
    "data = pd.DataFrame.from_dict(data_dict)\n",
    "\n"
   ]
  },
  {
   "cell_type": "code",
   "execution_count": 33,
   "id": "86f37529",
   "metadata": {},
   "outputs": [],
   "source": [
    "def dataframe_for_plot(df, list_planets, list_parametre):\n",
    "    # Créer une liste de colonnes à conserver\n",
    "    columns_to_keep = ['planet'] + list_parametre\n",
    "    \n",
    "    # Sélectionner les lignes correspondantes aux planètes spécifiées\n",
    "    df = df[df['planet'].isin(list_planets)]\n",
    "    \n",
    "    # Sélectionner les colonnes à conserver\n",
    "    df = df[columns_to_keep]\n",
    "    \n",
    "    return df\n",
    "        "
   ]
  },
  {
   "cell_type": "code",
   "execution_count": 34,
   "id": "aa21edf5",
   "metadata": {},
   "outputs": [],
   "source": [
    "def dict_for_basic(df):\n",
    "    list_parametre_basic = ['planet','mass_x10_24_kg','diameter_km','average_distance_x10_6_km']\n",
    "    df = df[list_parametre_basic]\n",
    "    \n",
    "    my_dict={}\n",
    "\n",
    "    for i in range(len(new_df)):\n",
    "        my_dict[new_df['planet'][i]]={}\n",
    "        my_dict[new_df['planet'][i]]['diametre']=new_df['diameter_km'][i]\n",
    "        my_dict[new_df['planet'][i]]['masse']=new_df['mass_x10_24_kg'][i]\n",
    "        my_dict[new_df['planet'][i]]['mean_distance']=new_df['average_distance_x10_6_km'][i]\n",
    "\n",
    "\n",
    "    \n",
    "    return my_dict"
   ]
  },
  {
   "cell_type": "code",
   "execution_count": 35,
   "id": "d9239d98",
   "metadata": {},
   "outputs": [],
   "source": [
    "def plot_temp_unique_planet(list_planets,data):\n",
    "    list_parametre = [\"lowest_temperature_degc\",\"highest_temperature_degc\",\"mean_temperature_degc\"]\n",
    "    new_df = dataframe_for_plot(data, list_planets, list_parametre)\n",
    "    df = new_df.reset_index(drop=True)\n",
    "    \n",
    "\n",
    "    min_val = int(df['lowest_temperature_degc'][0]-20)\n",
    "    max_val = int(df['highest_temperature_degc'][0]+20)\n",
    "    mean_temp = int(df['mean_temperature_degc'][0])\n",
    "    pas = int((max_val +abs(min_val))/15)\n",
    "    if(max_val-min_val):\n",
    "        pas=1\n",
    "\n",
    "    data = [pas for x in range(min_val, max_val + 1,pas)]\n",
    "    index = 0.4\n",
    "    colors = plt.cm.coolwarm(np.linspace(0, 1, len(data)))\n",
    "    y_offset = min_val\n",
    "\n",
    "    for row in range(len(data)):\n",
    "        plt.bar(index, height=data[row], width=0.05, bottom=y_offset, color=colors[row])  # Changed width to 0.05\n",
    "        y_offset += pas\n",
    "\n",
    "    legend_text_mean = 'Mean Temperature'\n",
    "    legend_text_max_min = 'Extremum Temperature'\n",
    "    plt.plot([], [], color='red', linestyle='--', label=legend_text_mean)\n",
    "    plt.plot([], [], color='black', linestyle='--', label=legend_text_max_min)\n",
    "\n",
    "    plt.axhline(y=min_val+20, color='black', linestyle='--')\n",
    "    plt.axhline(y=max_val-20, color='black', linestyle='--')\n",
    "    plt.axhline(y=mean_temp, color='red', linestyle='--')\n",
    "\n",
    "    # Add a legend for the axhline\n",
    "    legend_text_mean = 'Mean Temperature'\n",
    "    legend_text_max_min = 'Extremum Temperature'\n",
    "\n",
    "    plt.xticks([])\n",
    "    plt.title(f\"Temperature of the {list_planets[0]}\")\n",
    "    plt.xlabel(list_planets[0])\n",
    "    plt.show()\n",
    "\n",
    "    # Save the graph as a PNG file\n",
    "    plt.savefig('temperature_earth.png', dpi=300, bbox_inches='tight')\n"
   ]
  },
  {
   "cell_type": "code",
   "execution_count": 40,
   "id": "4aa76e4c",
   "metadata": {},
   "outputs": [],
   "source": [
    "def plot_temp_unique_planet(list_planets,data):\n",
    "    list_parametre = [\"lowest_temperature_degc\",\"highest_temperature_degc\",\"mean_temperature_degc\"]\n",
    "    new_df = dataframe_for_plot(data, list_planets, list_parametre)\n",
    "    df = new_df.reset_index(drop=True)\n",
    "    \n",
    "    min_val = int(df['lowest_temperature_degc'][0]-20)\n",
    "    max_val = int(df['highest_temperature_degc'][0]+20)\n",
    "    mean_temp = int(df['mean_temperature_degc'][0])\n",
    "    pas = int((max_val +abs(min_val))/15)\n",
    "    if(max_val-min_val):\n",
    "        pas=1\n",
    "\n",
    "    data = [pas for x in range(min_val, max_val + 1,pas)]\n",
    "    index = 0.4\n",
    "    colors = plt.cm.coolwarm(np.linspace(0, 1, len(data)))\n",
    "    y_offset = min_val\n",
    "\n",
    "    for row in range(len(data)):\n",
    "        plt.barh(index, width=data[row], height=0.1, left=y_offset, color=colors[row])\n",
    "        y_offset += pas\n",
    "\n",
    "\n",
    "    legend_text_mean = 'Mean Temperature'\n",
    "    legend_text_max_min = 'Extremum Temperature'\n",
    "    plt.plot([], [], color='red', linestyle='--', label=legend_text_mean)\n",
    "    plt.plot([], [], color='black', linestyle='--', label=legend_text_max_min)\n",
    "\n",
    "    plt.axvline(x=min_val+20, color='black', linestyle='--')\n",
    "    plt.axvline(x=max_val-20, color='black', linestyle='--')\n",
    "    plt.axvline(x=mean_temp, color='red', linestyle='--')\n",
    "\n",
    "    # Add a legend for the axhline\n",
    "    legend_text_mean = 'Mean Temperature'\n",
    "    legend_text_max_min = 'Extremum Temperature'\n",
    "\n",
    "    plt.yticks([index], [list_planets[0]])\n",
    "    plt.xlabel(list_planets[0])\n",
    "    plt.title(f\"Temperature of the {list_planets[0]}\")\n",
    "\n",
    "    plt.show()\n",
    "\n",
    "    # Save the graph as a PNG file\n",
    "    plt.savefig('temperature_earth.png', dpi=300, bbox_inches='tight')\n"
   ]
  },
  {
   "cell_type": "code",
   "execution_count": 30,
   "id": "8c92582c",
   "metadata": {},
   "outputs": [
    {
     "data": {
      "image/png": "[encoded data removed]",
      "text/plain": [
       "<Figure size 432x288 with 1 Axes>"
      ]
     },
     "metadata": {
      "needs_background": "light"
     },
     "output_type": "display_data"
    }
   ],
   "source": [
    "import pandas as pd\n",
    "import matplotlib.pyplot as plt\n",
    "\n",
    "# Création du tableau\n",
    "data = {'MIN': [257], 'MEAN': [478], 'MAX': [968]}\n",
    "df = pd.DataFrame(data)\n",
    "\n",
    "# Création de la figure et du tableau de Axes\n",
    "fig, ax = plt.subplots()\n",
    "\n",
    "# Hide axes\n",
    "ax.axis('off')\n",
    "\n",
    "# Définition des couleurs des cellules\n",
    "cell_colors = [['blue', 'gray', 'red']] \n",
    "\n",
    "# Création du tableau\n",
    "table = plt.table(cellText=df.values,\n",
    "                  colLabels=df.columns,\n",
    "                  cellLoc = 'center',\n",
    "                  cellColours = cell_colors,\n",
    "                  loc='center')\n",
    "\n",
    "table.auto_set_font_size(False)\n",
    "table.set_fontsize(10)\n",
    "table.scale(1, 1.5)\n",
    "\n",
    "ax.set_title('Température de la table', \n",
    "             fontweight =\"bold\")\n",
    "\n",
    "plt.savefig('table.png')\n"
   ]
  },
  {
   "cell_type": "code",
   "execution_count": 41,
   "id": "a0a61167",
   "metadata": {},
   "outputs": [
    {
     "data": {
      "image/png": "[encoded data removed]",
      "text/plain": [
       "<Figure size 432x288 with 1 Axes>"
      ]
     },
     "metadata": {
      "needs_background": "light"
     },
     "output_type": "display_data"
    },
    {
     "data": {
      "text/plain": [
       "<Figure size 432x288 with 0 Axes>"
      ]
     },
     "metadata": {},
     "output_type": "display_data"
    }
   ],
   "source": [
    "list_planets=['Venus']\n",
    "\n",
    "\n",
    "plot_temp_unique_planet(list_planets, data)"
   ]
  },
  {
   "cell_type": "code",
   "execution_count": 98,
   "id": "265716f4",
   "metadata": {},
   "outputs": [],
   "source": [
    "def plot_composition_unique_planet(list_planets, data):\n",
    "    # Create the dataframe\n",
    "    list_parametre = ['atmospheric_composition']\n",
    "    new_df = dataframe_for_plot(data, list_planets, list_parametre)\n",
    "    df = new_df.reset_index(drop=True)\n",
    "\n",
    "    l = df['atmospheric_composition']\n",
    "    df = pd.json_normalize(l)\n",
    "\n",
    "    species = list_planets[0]\n",
    "    components = df.columns.tolist()\n",
    "\n",
    "    # Calculate the average for each component\n",
    "    average = df.mean().tolist()\n",
    "\n",
    "    big = []\n",
    "    micro = []\n",
    "    somme_autres = 0\n",
    "    for element in components:\n",
    "        if df[element][0] > 0.2:\n",
    "            big.append(element)\n",
    "        else:\n",
    "            micro.append(element)\n",
    "            somme_autres += df[element][0]\n",
    "    big.append('Autre')\n",
    "    df['Autre'] = somme_autres\n",
    "\n",
    "    # Define base color for \"Autre\"\n",
    "    rgb_color = (128, 192, 128)\n",
    "    r, g, b = rgb_color\n",
    "\n",
    "    # Sort micro components by their values in descending order\n",
    "    micro_sorted = sorted(micro, key=lambda x: df[x][0], reverse=True)\n",
    "\n",
    "    # Create the figure and axes for the main plot\n",
    "    fig, ax_main = plt.subplots()\n",
    "    width = 0.5\n",
    "\n",
    "    # Plot the stacked bar chart for \"big\" components\n",
    "    bottom_main = 0\n",
    "    for component in big:\n",
    "        p = ax_main.bar(species, df[component], width, label=component, bottom=bottom_main)\n",
    "        bottom_main += df[component]\n",
    "\n",
    "    # Plot the stacked bar chart for sorted \"micro\" components in the main plot\n",
    "    bottom_micro = 0\n",
    "    num_micro = len(micro_sorted)\n",
    "    for i, component in enumerate(micro_sorted):\n",
    "        # Modifier les valeurs des composantes individuellement\n",
    "        r += 0\n",
    "        g += -30\n",
    "        b += -10\n",
    "\n",
    "        # S'assurer que les valeurs restent dans la plage [0, 255]\n",
    "        r = max(0, min(r, 255))\n",
    "        g = max(0, min(g, 255))\n",
    "        b = max(0, min(b, 255))\n",
    "\n",
    "        rgb_color = (r, g, b)\n",
    "        hex_color = '#%02x%02x%02x' % rgb_color\n",
    "\n",
    "        p = ax_main.bar(species, df[component], width, label=component, bottom=bottom_micro, color=hex_color)\n",
    "        bottom_micro += df[component]\n",
    "\n",
    "    ax_main.set_title(\"Composition of Earth\")\n",
    "    ax_main.set_ylabel(\"Percentage\")\n",
    "    ax_main.legend(loc=\"upper right\")\n",
    "\n",
    "    # Save the graph as a PNG file\n",
    "    plt.savefig('composition_earth.png', dpi=300, bbox_inches='tight')\n",
    "\n",
    "    # Display the graph\n",
    "    plt.show()\n"
   ]
  },
  {
   "cell_type": "code",
   "execution_count": 99,
   "id": "8eb3bb5b",
   "metadata": {
    "scrolled": true
   },
   "outputs": [
    {
     "data": {
      "image/png": "[encoded data removed]",
      "text/plain": [
       "<Figure size 432x288 with 1 Axes>"
      ]
     },
     "metadata": {
      "needs_background": "light"
     },
     "output_type": "display_data"
    }
   ],
   "source": [
    "list_planets=['Earth']\n",
    "plot_composition_unique_planet(list_planets, data)"
   ]
  },
  {
   "cell_type": "code",
   "execution_count": 90,
   "id": "e5d608cc",
   "metadata": {},
   "outputs": [],
   "source": [
    "\n",
    "def plot_gravity_unique_planet(list_planets,data):\n",
    "    list_planets.append('Earth')\n",
    "    list_parametre = ['gravity_m_s2']\n",
    "\n",
    "    new_df = dataframe_for_plot(data, list_planets, list_parametre)\n",
    "    new_df = new_df.reset_index(drop=True)\n",
    "    # liste des planètes\n",
    "    planetes = new_df['planet']\n",
    "\n",
    "    # force de gravité pour chaque planète (en m/s^2)\n",
    "    gravite = new_df['gravity_m_s2']\n",
    "\n",
    "    # force de saut d'un homme de 70kg (en Newton)\n",
    "    force_saut = 70 * 2.45  # supposition\n",
    "\n",
    "    # calcul de l'accélération due au saut\n",
    "    acceleration_saut = force_saut / 70\n",
    "\n",
    "    # estimation du temps de contact au sol pendant le saut\n",
    "    temps_contact = 0.1  # supposition\n",
    "\n",
    "    # calcul de la vitesse initiale au moment du saut\n",
    "    vitesse_initiale = acceleration_saut * temps_contact\n",
    "\n",
    "    # calcul de la hauteur de saut pour chaque planète (en mètres)\n",
    "    hauteur_saut = [vitesse_initiale**2 / (2 * g) for g in gravite]\n",
    "\n",
    "    plt.bar(planetes, hauteur_saut)\n",
    "    plt.ylabel('Jump height (m)')\n",
    "    plt.title(f\"Jump height for a 70kg man on {list_planets[0]} compared to {list_planets[1]}\")\n",
    "    plt.savefig('gravity_vs_earth.png', dpi=300, bbox_inches='tight')\n",
    "    plt.show()\n"
   ]
  },
  {
   "cell_type": "code",
   "execution_count": 91,
   "id": "95b3cefd",
   "metadata": {
    "scrolled": true
   },
   "outputs": [
    {
     "data": {
      "image/png": "[encoded data removed]",
      "text/plain": [
       "<Figure size 432x288 with 1 Axes>"
      ]
     },
     "metadata": {
      "needs_background": "light"
     },
     "output_type": "display_data"
    }
   ],
   "source": [
    "list_planets = ['Jupiter']\n",
    "plot_gravity_unique_planet(list_planets, data)"
   ]
  },
  {
   "cell_type": "code",
   "execution_count": 92,
   "id": "c0d634e9",
   "metadata": {},
   "outputs": [],
   "source": [
    "def plot_diameter_unique_planet(list_planets,data):\n",
    "    list_planets.append('Earth')\n",
    "    list_parametre = ['diameter_km']\n",
    "\n",
    "    new_df = dataframe_for_plot(data, list_planets, list_parametre)\n",
    "    new_df = new_df.reset_index(drop=True)\n",
    "    # liste des planètes\n",
    "    planetes = new_df['planet']\n",
    "\n",
    "    # force de gravité pour chaque pla\n",
    "\n",
    "    diametres = new_df['diameter_km']  # en kilomètres\n",
    "\n",
    "    plt.barh(planetes, diametres, color=['blue', 'red'])\n",
    "    plt.xlabel('Equatorial Diameter (km)')\n",
    "    plt.title(f\"Comparison of {list_planets[0]} and {list_planets[1]} Diameters\")\n",
    "\n",
    "    plt.savefig('diameter_vs_earth1.png', dpi=300, bbox_inches='tight')\n",
    "    plt.show()\n",
    "\n",
    "def plot_diameter_unique_planet2(list_planets,data):\n",
    "    list_planets.append('Earth')\n",
    "    list_parametre = ['diameter_km']\n",
    "\n",
    "    new_df = dataframe_for_plot(data, list_planets, list_parametre)\n",
    "    new_df = new_df.reset_index(drop=True)\n",
    "    # liste des planètes\n",
    "    planetes = new_df['planet']\n",
    "\n",
    "    # force de gravité pour chaque pla\n",
    "\n",
    "    diametres = new_df['diameter_km']  # en kilomètres\n",
    "    rayons = [d / 2 for d in diametres]\n",
    "    couleurs = ['blue', 'red']\n",
    "\n",
    "\n",
    "\n",
    "    fig, ax = plt.subplots()\n",
    "\n",
    "    # Centrer les cercles\n",
    "    centre = [0, 0]\n",
    "\n",
    "    for i in range(len(planetes)):\n",
    "        circle = plt.Circle(centre, rayons[i], color=couleurs[i], fill=True, alpha=0.5, label=planetes[i])\n",
    "        ax.add_artist(circle)\n",
    "\n",
    "    plt.xlim(-max(rayons)*1.1, max(rayons)*1.1)\n",
    "    plt.ylim(-max(rayons)*1.1, max(rayons)*1.1)\n",
    "    plt.gca().set_aspect('equal', adjustable='box')\n",
    "    plt.legend()\n",
    "    plt.title(f\"Comparison of {list_planets[0]} and {list_planets[1]} Diameters\")\n",
    "    plt.savefig('diameter_vs_earth2.png', dpi=300, bbox_inches='tight')\n",
    "    plt.show()\n"
   ]
  },
  {
   "cell_type": "code",
   "execution_count": 97,
   "id": "184428d4",
   "metadata": {
    "scrolled": false
   },
   "outputs": [
    {
     "data": {
      "image/png": "[encoded data removed]",
      "text/plain": [
       "<Figure size 432x288 with 1 Axes>"
      ]
     },
     "metadata": {
      "needs_background": "light"
     },
     "output_type": "display_data"
    },
    {
     "data": {
      "image/png": "[encoded data removed]",
      "text/plain": [
       "<Figure size 432x288 with 1 Axes>"
      ]
     },
     "metadata": {
      "needs_background": "light"
     },
     "output_type": "display_data"
    }
   ],
   "source": [
    "list_planets = ['Venus']\n",
    "plot_diameter_unique_planet(list_planets, data)\n",
    "plot_diameter_unique_planet2(list_planets, data)"
   ]
  },
  {
   "cell_type": "code",
   "execution_count": 94,
   "id": "cfab0136",
   "metadata": {},
   "outputs": [],
   "source": [
    "def plot_distance_unique_planet(list_planets, data):\n",
    "    list_planets.append('Earth')\n",
    "    list_parametre = ['average_distance_au']\n",
    "\n",
    "    new_df = dataframe_for_plot(data, list_planets, list_parametre)\n",
    "    new_df = new_df.reset_index(drop=True)\n",
    "    # Tri du DataFrame par ordre croissant de la colonne \"distance_moyenne_ua_average_distance_au\"\n",
    "    df_sorted = new_df.sort_values('average_distance_au')\n",
    "\n",
    "    # Création du graphe interactif avec un bar plot en utilisant le DataFrame trié\n",
    "    sns.barplot(x='average_distance_au', y='planet', data=df_sorted)  # Inversion des axes x et y\n",
    "    plt.xlabel('Average Distance (AU)')\n",
    "    plt.ylabel('Planet')\n",
    "    plt.title('Average Distance of Planets')\n",
    "    plt.savefig('distance_vs_earth.png', dpi=300, bbox_inches='tight')\n",
    "    plt.show()\n"
   ]
  },
  {
   "cell_type": "code",
   "execution_count": 95,
   "id": "03a82878",
   "metadata": {},
   "outputs": [
    {
     "data": {
      "image/png": "[encoded data removed]",
      "text/plain": [
       "<Figure size 432x288 with 1 Axes>"
      ]
     },
     "metadata": {
      "needs_background": "light"
     },
     "output_type": "display_data"
    }
   ],
   "source": [
    "list_planets = ['Jupiter']\n",
    "plot_distance_unique_planet(list_planets, data)"
   ]
  },
  {
   "cell_type": "markdown",
   "id": "c0607cee",
   "metadata": {},
   "source": [
    "### partie composition (pas finie)"
   ]
  },
  {
   "cell_type": "markdown",
   "id": "bb34b7fb",
   "metadata": {},
   "source": [
    "#### partie unique"
   ]
  },
  {
   "cell_type": "code",
   "execution_count": null,
   "id": "223daad9",
   "metadata": {
    "scrolled": false
   },
   "outputs": [],
   "source": [
    "list_planets=['Earth']\n",
    "plot_composition_unique_planet(list_planets, data)"
   ]
  },
  {
   "cell_type": "code",
   "execution_count": null,
   "id": "7c851849",
   "metadata": {},
   "outputs": [],
   "source": [
    "import matplotlib.pyplot as plt\n",
    "import pandas as pd\n",
    "\n",
    "# Create the dataframe\n",
    "list_planets=['Earth']\n",
    "list_parametre = ['atmospheric_composition']\n",
    "new_df = dataframe_for_plot(data, list_planets, list_parametre)\n",
    "df = new_df.reset_index(drop=True)\n",
    "\n",
    "l=df['atmospheric_composition']\n",
    "df = pd.json_normalize(l)\n",
    "\n",
    "species = list_planets[0]\n",
    "components = df.columns.tolist()\n",
    "\n",
    "# Calculate the average for each component\n",
    "average = df.mean().tolist()\n",
    "\n",
    "big=[]\n",
    "micro=[]\n",
    "somme_autres=0\n",
    "for element in components:\n",
    "    if(df[element][0] > 0.2):\n",
    "        big.append(element)\n",
    "    else:\n",
    "        micro.append(element)\n",
    "        somme_autres+=df[element][0]\n",
    "big.append('Autre')\n",
    "df['Autre']=somme_autres\n",
    "\n",
    "\n",
    "\n",
    "# Create the figure and axes\n",
    "fig, ax = plt.subplots()\n",
    "width = 0.5\n",
    "\n",
    "# Plot the stacked bar chart\n",
    "bottom = 0\n",
    "\n",
    "somme=0\n",
    "for component in big:\n",
    "    p = ax.bar(species, df[component], width, label=component, bottom=bottom)\n",
    "    bottom += df[component]\n",
    "\n",
    "ax.set_title(\"Composition of Earth\")\n",
    "ax.set_ylabel(\"Percentage\")\n",
    "ax.legend(loc=\"upper right\")\n",
    "\n",
    "# Save the graph as a PNG file\n",
    "plt.savefig('composition_earth.png', dpi=300, bbox_inches='tight')\n",
    "\n",
    "# Display the graph\n",
    "plt.show()\n"
   ]
  },
  {
   "cell_type": "code",
   "execution_count": null,
   "id": "a149922f",
   "metadata": {},
   "outputs": [],
   "source": [
    "\n",
    "def plot_composition_unique_planet(list_planets,data):\n",
    "    # Create the dataframe\n",
    "    list_parametre = ['atmospheric_composition']\n",
    "    new_df = dataframe_for_plot(data, list_planets, list_parametre)\n",
    "    df = new_df.reset_index(drop=True)\n",
    "\n",
    "    l=df['atmospheric_composition']\n",
    "    df = pd.json_normalize(l)\n",
    "\n",
    "    species = list_planets[0]\n",
    "    components = df.columns.tolist()\n",
    "\n",
    "    # Calculate the average for each component\n",
    "    average = df.mean().tolist()\n",
    "\n",
    "    big=[]\n",
    "    micro=[]\n",
    "    somme_autres=0\n",
    "    for element in components:\n",
    "        if(df[element][0] > 0.2):\n",
    "            big.append(element)\n",
    "        else:\n",
    "            micro.append(element)\n",
    "            somme_autres+=df[element][0]\n",
    "    big.append('Autre')\n",
    "    df['Autre']=somme_autres\n",
    "\n",
    "    import matplotlib.cm as cm\n",
    "\n",
    "    # Define base color for \"Autre\"\n",
    "    rgb_color = (128, 192, 128) \n",
    "    r, g, b = rgb_color\n",
    "    print(f\"r={r} g={g} b={b}\")\n",
    "\n",
    "    # Sort micro components by their values in descending order\n",
    "    micro_sorted = sorted(micro, key=lambda x: df[x][0], reverse=True)\n",
    "\n",
    "    # Create the figure and axes for the main plot and the micro subplot\n",
    "    fig, ax_main = plt.subplots()\n",
    "    ax_micro = fig.add_axes([0.6, 0.15, 0.3, 0.3])  # [left, bottom, width, height]\n",
    "    width = 0.5\n",
    "\n",
    "    # Plot the stacked bar chart for \"big\" components\n",
    "    bottom_main = 0\n",
    "    for component in big:\n",
    "        p = ax_main.bar(species, df[component], width, label=component, bottom=bottom_main)\n",
    "        bottom_main += df[component]\n",
    "\n",
    "    ax_main.set_title(\"Composition of Earth\")\n",
    "    ax_main.set_ylabel(\"Percentage\")\n",
    "    ax_main.legend(loc=\"upper right\")\n",
    "\n",
    "    # Plot the stacked bar chart for sorted \"micro\" components in the micro subplot\n",
    "    bottom_micro = 0\n",
    "    num_micro = len(micro_sorted)\n",
    "    for i, component in enumerate(micro_sorted):\n",
    "        # Modifier les valeurs des composantes individuellement\n",
    "        r += 0\n",
    "        g += -30\n",
    "        b += -10\n",
    "\n",
    "        # S'assurer que les valeurs restent dans la plage [0, 255]\n",
    "        r = max(0, min(r, 255))\n",
    "        g = max(0, min(g, 255))\n",
    "        b = max(0, min(b, 255))\n",
    "\n",
    "        rgb_color = (r, g, b)\n",
    "        \n",
    "\n",
    "        hex_color = '#%02x%02x%02x' % rgb_color\n",
    "\n",
    "\n",
    "        p = ax_micro.bar(species, df[component], width, label=component, bottom=bottom_micro, color=hex_color)\n",
    "        bottom_micro += df[component]\n",
    "\n",
    "    ax_micro.set_title(\"Autres\")\n",
    "    ax_micro.set_ylabel(\"Percentage\")\n",
    "    ax_micro.legend(loc=\"upper right\")\n",
    "\n",
    "    # Adjust the height of the main plot\n",
    "    box_main = ax_main.get_position()\n",
    "    ax_main.set_position([box_main.x0, box_main.y0, box_main.width, box_main.height * 1.5])\n",
    "\n",
    "    # Save the graph as a PNG file\n",
    "    plt.savefig('composition_earth.png', dpi=300, bbox_inches='tight')\n",
    "\n",
    "    # Display the graph\n",
    "    plt.show()\n",
    "\n",
    "\n",
    "\n"
   ]
  },
  {
   "cell_type": "markdown",
   "id": "006ff4ad",
   "metadata": {},
   "source": [
    "#### partie plusieurs"
   ]
  },
  {
   "cell_type": "code",
   "execution_count": null,
   "id": "f40bdcc9",
   "metadata": {
    "scrolled": false
   },
   "outputs": [],
   "source": [
    "list_planets = ['Jupiter', 'Saturn']\n",
    "list_parametre = ['atmospheric_composition']\n",
    "\n",
    "new_df = dataframe_for_plot(data, list_planets, list_parametre)\n",
    "new_df = new_df.reset_index(drop=True)\n",
    "new_df"
   ]
  },
  {
   "cell_type": "code",
   "execution_count": null,
   "id": "a93815f8",
   "metadata": {},
   "outputs": [],
   "source": [
    "# création de votre dataframe initial\n",
    "df = pd.DataFrame({\n",
    "    'planet': ['Jupiter', 'Saturn', 'Uranus'],\n",
    "    'atmospheric_composition': [\n",
    "        {'H2': 0.898, 'He2': 0.102, 'CH4': 0.003, 'NH3': 0.001},\n",
    "        {'H2': 0.963, 'He': 0.065, 'CH4': 0.003, 'NH3': 0.002},\n",
    "        {'H2': 0.83, 'He': 0.15, 'jsfjo': 0.015}\n",
    "    ]\n",
    "})\n",
    "df"
   ]
  },
  {
   "cell_type": "markdown",
   "id": "5d55b519",
   "metadata": {},
   "source": [
    "### Partie temperature"
   ]
  },
  {
   "cell_type": "markdown",
   "id": "d6b2896c",
   "metadata": {},
   "source": [
    "#### Partie unique "
   ]
  },
  {
   "cell_type": "code",
   "execution_count": null,
   "id": "3fd7dd3d",
   "metadata": {
    "scrolled": true
   },
   "outputs": [],
   "source": [
    "list_planets=['Earth']\n",
    "\n",
    "\n",
    "plot_temp_unique_planet(list_planets, data)"
   ]
  },
  {
   "cell_type": "code",
   "execution_count": null,
   "id": "d5f0bedf",
   "metadata": {},
   "outputs": [],
   "source": []
  },
  {
   "cell_type": "code",
   "execution_count": null,
   "id": "3a6807fc",
   "metadata": {},
   "outputs": [],
   "source": [
    "def plot_temp_unique_planet(list_planets,data):\n",
    "    list_parametre = [\"lowest_temperature_degc\",\"highest_temperature_degc\",\"mean_temperature_degc\"]\n",
    "    new_df = dataframe_for_plot(data, list_planets, list_parametre)\n",
    "    df = new_df.reset_index(drop=True)\n",
    "    \n",
    "\n",
    "    min_val = int(df['lowest_temperature_degc'][0]-20)\n",
    "    max_val = int(df['highest_temperature_degc'][0]+20)\n",
    "    mean_temp = int(df['mean_temperature_degc'][0])\n",
    "    pas = int((max_val +abs(min_val))/15)\n",
    "\n",
    "    data = [pas for x in range(min_val, max_val + 1,pas)]\n",
    "    index = 0.4\n",
    "    colors = plt.cm.coolwarm(np.linspace(0, 1, len(data)))\n",
    "    y_offset = min_val\n",
    "\n",
    "    for row in range(len(data)):\n",
    "        plt.bar(index, height=data[row], width=pas, bottom=y_offset, color=colors[row])\n",
    "        y_offset += pas\n",
    "\n",
    "\n",
    "    legend_text_mean = 'Mean Temperature'\n",
    "    legend_text_max_min = 'Extremum Temperature'\n",
    "    plt.plot([], [], color='red', linestyle='--', label=legend_text_mean)\n",
    "    plt.plot([], [], color='black', linestyle='--', label=legend_text_max_min)\n",
    "\n",
    "    plt.axhline(y=min_val+20, color='black', linestyle='--')\n",
    "    plt.axhline(y=max_val-20, color='black', linestyle='--')\n",
    "    plt.axhline(y=mean_temp, color='red', linestyle='--')\n",
    "\n",
    "    # Add a legend for the axhline\n",
    "    legend_text_mean = 'Mean Temperature'\n",
    "    legend_text_max_min = 'Extremum Temperature'\n",
    "\n",
    "    plt.xticks([])\n",
    "    plt.title(f\"Temperature of the {list_planets[0]}\")\n",
    "\n",
    "    plt.show()\n",
    "\n",
    "    # Save the graph as a PNG file\n",
    "    plt.savefig('temperature_earth.png', dpi=300, bbox_inches='tight')\n"
   ]
  },
  {
   "cell_type": "code",
   "execution_count": null,
   "id": "599a11c6",
   "metadata": {
    "scrolled": false
   },
   "outputs": [],
   "source": [
    "\n",
    "\n",
    "# Define your data\n",
    "lowest_temp = -100#df['lowest_temperature_degc'][0]\n",
    "highest_temp = 200\n",
    "mean_temp = df['mean_temperature_degc'][0]\n",
    "print(f\"min : {lowest_temp}, mean : {mean_temp}, max : {highest_temp}\")\n",
    "\n",
    "print(f\"mean = {mean_temp} low = {lowest_temp} high = {highest_temp}\")\n",
    "\n",
    "# Create a 2D array that represents your data as a 1D heatmap\n",
    "num_grad =int(highest_temp+ abs(lowest_temp) +20) \n",
    "print( num_grad)\n",
    "heatmap_data = np.linspace(lowest_temp, highest_temp, num=num_grad).reshape(num_grad, 1)\n",
    "print(heatmap_data[0])\n",
    "# Create the figure and axis\n",
    "fig, ax = plt.subplots()\n",
    "\n",
    "# Create the heatmap\n",
    "cbar_kws = {\n",
    "    \"orientation\": \"vertical\",\n",
    "    \"shrink\": 1,\n",
    "    \"drawedges\": True,\n",
    "\n",
    "}\n",
    "sns.heatmap(heatmap_data, center=0 ,cmap='coolwarm', cbar_kws=cbar_kws)\n",
    "# Add a legend for the axhline\n",
    "legend_text_mean = 'Mean Temperature'\n",
    "legend_text_max_min = 'Extremum Temperature'\n",
    "plt.plot([], [], color='red', linestyle='--', label=legend_text_mean)\n",
    "plt.plot([], [], color='black', linestyle='--', label=legend_text_max_min)\n",
    "\n",
    "plt.axhline(y=lowest_temp+, color='black', linestyle='--')\n",
    "plt.axhline(y=highest_temp, color='black', linestyle='--')\n",
    "\n",
    "# Flip the y-axis so highest_temp is at the top\n",
    "ax.invert_yaxis()\n",
    "\n",
    "\n",
    "\n"
   ]
  },
  {
   "cell_type": "code",
   "execution_count": null,
   "id": "f8c04ee2",
   "metadata": {
    "scrolled": true
   },
   "outputs": [],
   "source": [
    "# Define your data\n",
    "lowest_temp = -200#df['lowest_temperature_degc'][0]\n",
    "highest_temp = 100\n",
    "mean_temp = 0\n",
    "\n",
    "num_values = 321\n",
    "\n",
    "y_data = np.linspace(highest_temp+10,lowest_temp-10 , num_values)\n",
    "y_data = y_data.reshape(-1, 1)\n",
    "\n",
    "f, ax = plt.subplots()\n",
    "# Flip the y-axis so highest_temp is at the top\n",
    "\n",
    "\n",
    "sns.heatmap(y_data,cmap='coolwarm',  ax=ax) #yticklabels=False,\n",
    "# Set the y-axis label with LaTeX formatting and rotate it by 90 degrees\n",
    "ax.set_ylabel(r'Temperature ($^\\circ$C)', rotation=90)\n",
    "\n",
    "\n",
    "\n",
    "plt.legend(loc='upper right')\n",
    "\n",
    "\n",
    "\n",
    "# Display the plot\n",
    "plt.show()"
   ]
  },
  {
   "cell_type": "code",
   "execution_count": null,
   "id": "48947b99",
   "metadata": {},
   "outputs": [],
   "source": [
    "df"
   ]
  },
  {
   "cell_type": "code",
   "execution_count": null,
   "id": "5c810673",
   "metadata": {
    "scrolled": true
   },
   "outputs": [],
   "source": []
  },
  {
   "cell_type": "markdown",
   "id": "5470fd8d",
   "metadata": {},
   "source": [
    "### partie dimension"
   ]
  },
  {
   "cell_type": "code",
   "execution_count": null,
   "id": "c9720609",
   "metadata": {},
   "outputs": [],
   "source": [
    "def plot_distance_unique_planet(list_planets, data):\n",
    "    list_planets.append('Earth')\n",
    "    list_parametre = ['average_distance_au']\n",
    "\n",
    "    new_df = dataframe_for_plot(data, list_planets, list_parametre)\n",
    "    new_df = new_df.reset_index(drop=True)\n",
    "    # Tri du DataFrame par ordre croissant de la colonne \"distance_moyenne_ua_average_distance_au\"\n",
    "    df_sorted = new_df.sort_values('average_distance_au')\n",
    "\n",
    "    # Création du graphe interactif avec un bar plot en utilisant le DataFrame trié\n",
    "    sns.barplot(x='average_distance_au', y='planet', data=df_sorted)  # Inversion des axes x et y\n",
    "    plt.xlabel('Average Distance (AU)')\n",
    "    plt.ylabel('Planet')\n",
    "    plt.title('Average Distance of Planets')\n",
    "    plt.show()\n"
   ]
  },
  {
   "cell_type": "code",
   "execution_count": null,
   "id": "9057111d",
   "metadata": {},
   "outputs": [],
   "source": [
    "list_planets = ['Jupiter']\n",
    "plot_distance_unique_planet(list_planets, data)"
   ]
  },
  {
   "cell_type": "code",
   "execution_count": null,
   "id": "5dea2c4f",
   "metadata": {},
   "outputs": [],
   "source": [
    "list_planets = ['Jupiter', 'Saturn', 'Earth']\n",
    "list_parametre = ['average_distance_au']\n",
    "\n",
    "new_df = dataframe_for_plot(data, list_planets, list_parametre)\n",
    "new_df = new_df.reset_index(drop=True)\n",
    "new_df"
   ]
  },
  {
   "cell_type": "code",
   "execution_count": null,
   "id": "2ca949d3",
   "metadata": {},
   "outputs": [],
   "source": [
    "\n",
    "\n",
    "# Tri du DataFrame par ordre croissant de la colonne \"distance_moyenne_ua_average_distance_au\"\n",
    "df_sorted = new_df.sort_values('average_distance_au')\n",
    "\n",
    "# Création du graphe interactif avec un bar plot en utilisant le DataFrame trié\n",
    "sns.barplot(x='planet', y='average_distance_au', data=df_sorted)\n",
    "plt.xlabel('Planet')\n",
    "plt.ylabel('Average Distance (AU)')\n",
    "plt.title('Average Distance of Planets')\n",
    "plt.show()\n"
   ]
  },
  {
   "cell_type": "markdown",
   "id": "2d3e9b79",
   "metadata": {},
   "source": [
    "### partie diametre"
   ]
  },
  {
   "cell_type": "code",
   "execution_count": null,
   "id": "f772cacf",
   "metadata": {
    "scrolled": true
   },
   "outputs": [],
   "source": [
    "def plot_diameter_unique_planet(list_planets,data):\n",
    "    list_planets.append('Earth')\n",
    "    list_parametre = ['diameter_km']\n",
    "\n",
    "    new_df = dataframe_for_plot(data, list_planets, list_parametre)\n",
    "    new_df = new_df.reset_index(drop=True)\n",
    "    # liste des planètes\n",
    "    planetes = new_df['planet']\n",
    "\n",
    "    # force de gravité pour chaque pla\n",
    "\n",
    "    diametres = new_df['diameter_km']  # en kilomètres\n",
    "\n",
    "    plt.barh(planetes, diametres, color=['blue', 'red'])\n",
    "    plt.xlabel('Equatorial Diameter (km)')\n",
    "    plt.title(f\"Comparison of {list_planets[0]} and {list_planets[1]} Diameters\")\n",
    "\n",
    "\n",
    "    plt.show()\n"
   ]
  },
  {
   "cell_type": "code",
   "execution_count": null,
   "id": "7ecfa0a7",
   "metadata": {},
   "outputs": [],
   "source": [
    "list_planets = ['Jupiter']\n",
    "plot_diameter_unique_planet(list_planets, data)"
   ]
  },
  {
   "cell_type": "code",
   "execution_count": null,
   "id": "da24f138",
   "metadata": {},
   "outputs": [],
   "source": [
    "\n",
    "def plot_diameter_unique_planet2(list_planets,data):\n",
    "    list_planets.append('Earth')\n",
    "    list_parametre = ['diameter_km']\n",
    "\n",
    "    new_df = dataframe_for_plot(data, list_planets, list_parametre)\n",
    "    new_df = new_df.reset_index(drop=True)\n",
    "    # liste des planètes\n",
    "    planetes = new_df['planet']\n",
    "\n",
    "    # force de gravité pour chaque pla\n",
    "\n",
    "    diametres = new_df['diameter_km']  # en kilomètres\n",
    "    rayons = [d / 2 for d in diametres]\n",
    "    couleurs = ['blue', 'red']\n",
    "\n",
    "\n",
    "\n",
    "    fig, ax = plt.subplots()\n",
    "\n",
    "    # Centrer les cercles\n",
    "    centre = [0, 0]\n",
    "\n",
    "    for i in range(len(planetes)):\n",
    "        circle = plt.Circle(centre, rayons[i], color=couleurs[i], fill=True, alpha=0.5, label=planetes[i])\n",
    "        ax.add_artist(circle)\n",
    "\n",
    "    plt.xlim(-max(rayons)*1.1, max(rayons)*1.1)\n",
    "    plt.ylim(-max(rayons)*1.1, max(rayons)*1.1)\n",
    "    plt.gca().set_aspect('equal', adjustable='box')\n",
    "    plt.legend()\n",
    "    plt.title(f\"Comparison of {list_planets[0]} and {list_planets[1]} Diameters\")\n",
    "    plt.show()\n"
   ]
  },
  {
   "cell_type": "code",
   "execution_count": null,
   "id": "5bd72f7f",
   "metadata": {},
   "outputs": [],
   "source": [
    "list_planets = ['Jupiter']\n",
    "plot_diameter_unique_planet2(list_planets, data)"
   ]
  },
  {
   "cell_type": "markdown",
   "id": "96b9013b",
   "metadata": {},
   "source": [
    "### partie gravité \n",
    "\n",
    "E_cinétique = E_potentielle\n",
    "\n",
    "1/2 * m * v^2 = m * g * h\n",
    "\n",
    "où:\n",
    "\n",
    "m est la masse de la personne (70 kg),\n",
    "v est la vitesse initiale (que nous pouvons estimer à partir de la force de saut, F = m * a, donc a = F/m, et v = a * t, en supposant un temps de contact au sol pendant le saut t),\n",
    "g est l'accélération due à la gravité,\n",
    "h est la hauteur du saut.\n",
    "On peut réorganiser la formule pour trouver h:\n",
    "\n",
    "h = v^2 / (2 * g)"
   ]
  },
  {
   "cell_type": "code",
   "execution_count": null,
   "id": "3e7dc2a2",
   "metadata": {
    "scrolled": true
   },
   "outputs": [],
   "source": [
    "\n",
    "def plot_gravity_unique_planet(list_planets,data):\n",
    "    list_planets.append('Earth')\n",
    "    list_parametre = ['gravity_m_s2']\n",
    "\n",
    "    new_df = dataframe_for_plot(data, list_planets, list_parametre)\n",
    "    new_df = new_df.reset_index(drop=True)\n",
    "    # liste des planètes\n",
    "    planetes = new_df['planet']\n",
    "\n",
    "    # force de gravité pour chaque planète (en m/s^2)\n",
    "    gravite = new_df['gravity_m_s2']\n",
    "\n",
    "    # force de saut d'un homme de 70kg (en Newton)\n",
    "    force_saut = 70 * 2.45  # supposition\n",
    "\n",
    "    # calcul de l'accélération due au saut\n",
    "    acceleration_saut = force_saut / 70\n",
    "\n",
    "    # estimation du temps de contact au sol pendant le saut\n",
    "    temps_contact = 0.1  # supposition\n",
    "\n",
    "    # calcul de la vitesse initiale au moment du saut\n",
    "    vitesse_initiale = acceleration_saut * temps_contact\n",
    "\n",
    "    # calcul de la hauteur de saut pour chaque planète (en mètres)\n",
    "    hauteur_saut = [vitesse_initiale**2 / (2 * g) for g in gravite]\n",
    "\n",
    "    plt.bar(planetes, hauteur_saut)\n",
    "    plt.ylabel('Jump height (m)')\n",
    "    plt.title(f\"Jump height for a 70kg man on {list_planets[0]} compared to {list_planets[1]}\")\n",
    "\n",
    "    plt.show()\n"
   ]
  },
  {
   "cell_type": "code",
   "execution_count": null,
   "id": "33a5245e",
   "metadata": {},
   "outputs": [],
   "source": [
    "list_planets = ['Jupiter']\n",
    "plot_gravity_unique_planet(list_planets, data)"
   ]
  },
  {
   "cell_type": "markdown",
   "id": "573a2c94",
   "metadata": {},
   "source": []
  }
 ],
 "metadata": {
  "kernelspec": {
   "display_name": "Python 3 (ipykernel)",
   "language": "python",
   "name": "python3"
  },
  "language_info": {
   "codemirror_mode": {
    "name": "ipython",
    "version": 3
   },
   "file_extension": ".py",
   "mimetype": "text/x-python",
   "name": "python",
   "nbconvert_exporter": "python",
   "pygments_lexer": "ipython3",
   "version": "3.9.12"
  }
 },
 "nbformat": 4,
 "nbformat_minor": 5
}
